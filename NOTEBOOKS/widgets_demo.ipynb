{
 "cells": [
  {
   "cell_type": "code",
   "execution_count": 13,
   "metadata": {
    "urth": {
     "dashboard": {
      "layout": {
       "col": 0,
       "height": 4,
       "row": 0,
       "width": 4
      }
     }
    }
   },
   "outputs": [],
   "source": [
    "import numpy as np\n",
    "import matplotlib.pyplot as plt\n",
    "%matplotlib inline\n",
    "import pandas as pd\n",
    "import seaborn as sns\n",
    "from ipywidgets import interact, interactive, fixed, interact_manual\n",
    "from ipywidgets.widgets import Text, FloatSlider, IntSlider, RadioButtons\n",
    "from ipywidgets.widgets import Checkbox"
   ]
  },
  {
   "cell_type": "code",
   "execution_count": 19,
   "metadata": {
    "urth": {
     "dashboard": {
      "hidden": true,
      "layout": {}
     }
    }
   },
   "outputs": [
    {
     "data": {
      "application/vnd.jupyter.widget-view+json": {
       "model_id": "d60c0ede7cde4c5e87ff09d59b8d3661",
       "version_major": 2,
       "version_minor": 0
      },
      "text/plain": [
       "A Jupyter Widget"
      ]
     },
     "metadata": {},
     "output_type": "display_data"
    }
   ],
   "source": [
    "text = Text()\n",
    "\n",
    "def handle_submit(whatever):\n",
    "    print(whatever.value.upper())\n",
    "#    print(\"WHATEVER:\", whatever)\n",
    "\n",
    "text.on_submit(handle_submit)\n",
    "display(text)"
   ]
  },
  {
   "cell_type": "code",
   "execution_count": null,
   "metadata": {
    "collapsed": true,
    "urth": {
     "dashboard": {
      "hidden": true,
      "layout": {}
     }
    }
   },
   "outputs": [],
   "source": [
    "efawefawfe"
   ]
  },
  {
   "cell_type": "markdown",
   "metadata": {
    "urth": {
     "dashboard": {
      "layout": {
       "col": 4,
       "height": 4,
       "row": 0,
       "width": 4
      }
     }
    }
   },
   "source": [
    "Let's read in the data."
   ]
  },
  {
   "cell_type": "code",
   "execution_count": 15,
   "metadata": {
    "urth": {
     "dashboard": {
      "hidden": true,
      "layout": {}
     }
    }
   },
   "outputs": [
    {
     "data": {
      "text/html": [
       "<div>\n",
       "<style>\n",
       "    .dataframe thead tr:only-child th {\n",
       "        text-align: right;\n",
       "    }\n",
       "\n",
       "    .dataframe thead th {\n",
       "        text-align: left;\n",
       "    }\n",
       "\n",
       "    .dataframe tbody tr th {\n",
       "        vertical-align: top;\n",
       "    }\n",
       "</style>\n",
       "<table border=\"1\" class=\"dataframe\">\n",
       "  <thead>\n",
       "    <tr style=\"text-align: right;\">\n",
       "      <th></th>\n",
       "      <th>Airport</th>\n",
       "      <th>Code</th>\n",
       "      <th>2001 Rank</th>\n",
       "      <th>2001 Total</th>\n",
       "      <th>2010 Rank</th>\n",
       "      <th>2010 Total</th>\n",
       "      <th>2011 Rank</th>\n",
       "      <th>Total</th>\n",
       "      <th>Percent change 2001-2011</th>\n",
       "      <th>Percent change 2010-2011</th>\n",
       "    </tr>\n",
       "  </thead>\n",
       "  <tbody>\n",
       "    <tr>\n",
       "      <th>0</th>\n",
       "      <td>Atlanta, GA (Hartsfield-Jackson Atlanta Intern...</td>\n",
       "      <td>ATL</td>\n",
       "      <td>1</td>\n",
       "      <td>36384264</td>\n",
       "      <td>1</td>\n",
       "      <td>42655392</td>\n",
       "      <td>1</td>\n",
       "      <td>33034788</td>\n",
       "      <td>-9.2</td>\n",
       "      <td>-22.6</td>\n",
       "    </tr>\n",
       "    <tr>\n",
       "      <th>1</th>\n",
       "      <td>Chicago, IL (Chicago O'Hare International)</td>\n",
       "      <td>ORD</td>\n",
       "      <td>2</td>\n",
       "      <td>28626694</td>\n",
       "      <td>2</td>\n",
       "      <td>30033313</td>\n",
       "      <td>2</td>\n",
       "      <td>22367052</td>\n",
       "      <td>-21.9</td>\n",
       "      <td>-25.5</td>\n",
       "    </tr>\n",
       "    <tr>\n",
       "      <th>2</th>\n",
       "      <td>Dallas, TX (Dallas/Fort Worth International)</td>\n",
       "      <td>DFW</td>\n",
       "      <td>3</td>\n",
       "      <td>25198256</td>\n",
       "      <td>3</td>\n",
       "      <td>26785739</td>\n",
       "      <td>3</td>\n",
       "      <td>20430281</td>\n",
       "      <td>-18.9</td>\n",
       "      <td>-23.7</td>\n",
       "    </tr>\n",
       "    <tr>\n",
       "      <th>3</th>\n",
       "      <td>Denver, CO (Denver International)</td>\n",
       "      <td>DEN</td>\n",
       "      <td>6</td>\n",
       "      <td>16397390</td>\n",
       "      <td>4</td>\n",
       "      <td>24965553</td>\n",
       "      <td>4</td>\n",
       "      <td>19190341</td>\n",
       "      <td>17.0</td>\n",
       "      <td>-23.1</td>\n",
       "    </tr>\n",
       "    <tr>\n",
       "      <th>4</th>\n",
       "      <td>Los Angeles, CA (Los Angeles International)</td>\n",
       "      <td>LAX</td>\n",
       "      <td>4</td>\n",
       "      <td>22873307</td>\n",
       "      <td>5</td>\n",
       "      <td>22860849</td>\n",
       "      <td>5</td>\n",
       "      <td>18379418</td>\n",
       "      <td>-19.6</td>\n",
       "      <td>-19.6</td>\n",
       "    </tr>\n",
       "  </tbody>\n",
       "</table>\n",
       "</div>"
      ],
      "text/plain": [
       "                                             Airport Code  2001 Rank  \\\n",
       "0  Atlanta, GA (Hartsfield-Jackson Atlanta Intern...  ATL          1   \n",
       "1         Chicago, IL (Chicago O'Hare International)  ORD          2   \n",
       "2       Dallas, TX (Dallas/Fort Worth International)  DFW          3   \n",
       "3                  Denver, CO (Denver International)  DEN          6   \n",
       "4        Los Angeles, CA (Los Angeles International)  LAX          4   \n",
       "\n",
       "   2001 Total  2010 Rank  2010 Total  2011 Rank     Total  \\\n",
       "0    36384264          1    42655392          1  33034788   \n",
       "1    28626694          2    30033313          2  22367052   \n",
       "2    25198256          3    26785739          3  20430281   \n",
       "3    16397390          4    24965553          4  19190341   \n",
       "4    22873307          5    22860849          5  18379418   \n",
       "\n",
       "   Percent change 2001-2011  Percent change 2010-2011  \n",
       "0                      -9.2                     -22.6  \n",
       "1                     -21.9                     -25.5  \n",
       "2                     -18.9                     -23.7  \n",
       "3                      17.0                     -23.1  \n",
       "4                     -19.6                     -19.6  "
      ]
     },
     "execution_count": 15,
     "metadata": {},
     "output_type": "execute_result"
    }
   ],
   "source": [
    "\n",
    "sns.set_style('dark')\n",
    "\n",
    "df = pd.read_csv(\n",
    "    '../DATA/airport_boardings.csv',\n",
    "    thousands=',',\n",
    "    skipinitialspace=True,\n",
    ")\n",
    "\n",
    "df.head()\n"
   ]
  },
  {
   "cell_type": "markdown",
   "metadata": {
    "urth": {
     "dashboard": {
      "layout": {
       "col": 8,
       "height": 4,
       "row": 0,
       "width": 4
      }
     }
    }
   },
   "source": [
    "Now let's plot the data"
   ]
  },
  {
   "cell_type": "code",
   "execution_count": 16,
   "metadata": {
    "urth": {
     "dashboard": {
      "hidden": true,
      "layout": {}
     }
    }
   },
   "outputs": [
    {
     "data": {
      "image/png": "[encoded data removed]",
      "text/plain": [
       "<matplotlib.figure.Figure at 0x1a138fb198>"
      ]
     },
     "metadata": {},
     "output_type": "display_data"
    }
   ],
   "source": [
    "FIELD_TO_PLOT = 'Total'\n",
    "NUM_ENTRIES = 10\n",
    "\n",
    "\n",
    "sns.barplot(df[FIELD_TO_PLOT], df['Code'][:NUM_ENTRIES])\n",
    "\n",
    "plt.xlabel('Boardings in Millions')\n",
    "plt.ylabel('Airport')\n"
   ]
  },
  {
   "cell_type": "markdown",
   "metadata": {
    "urth": {
     "dashboard": {
      "layout": {
       "col": 0,
       "height": 4,
       "row": 4,
       "width": 4
      }
     }
    }
   },
   "source": [
    "So far so good. \n",
    "Now we want to add a slider widget. "
   ]
  },
  {
   "cell_type": "code",
   "execution_count": 17,
   "metadata": {
    "urth": {
     "dashboard": {
      "hidden": true,
      "layout": {}
     }
    }
   },
   "outputs": [
    {
     "data": {
      "image/png": "[encoded data removed]",
      "text/plain": [
       "<matplotlib.figure.Figure at 0x1a13a25748>"
      ]
     },
     "metadata": {},
     "output_type": "display_data"
    }
   ],
   "source": [
    "min_entries = 5\n",
    "max_entries = len(df)\n",
    "\n",
    "\n",
    "def f(num_entries):\n",
    "    ax = sns.barplot(df[FIELD_TO_PLOT], df['Code'][:num_entries])\n",
    "    ax.set(xlabel='Boardings in Millions', ylabel='Airport')\n",
    "    plt.show()\n",
    "\n",
    "\n",
    "slider = IntSlider(min=min_entries, max=max_entries,step=1,value=min_entries)\n",
    "interact(f, num_entries=slider);\n"
   ]
  },
  {
   "cell_type": "code",
   "execution_count": 18,
   "metadata": {
    "urth": {
     "dashboard": {
      "layout": {
       "col": 3,
       "height": 21,
       "row": 8,
       "width": 5
      }
     }
    }
   },
   "outputs": [
    {
     "data": {
      "image/png": "[encoded data removed]",
      "text/plain": [
       "<matplotlib.figure.Figure at 0x1a137bac88>"
      ]
     },
     "metadata": {},
     "output_type": "display_data"
    },
    {
     "data": {
      "text/plain": [
       "<function __main__.plot>"
      ]
     },
     "execution_count": 18,
     "metadata": {},
     "output_type": "execute_result"
    }
   ],
   "source": [
    "%matplotlib inline\n",
    "import numpy as np\n",
    "import matplotlib.pyplot as plt\n",
    "import seaborn as sns\n",
    "\n",
    "def plot(amplitude, color, fat_line):\n",
    "    fig, ax = plt.subplots(figsize=(4, 3),\n",
    "                           subplot_kw={'facecolor':'#EEEEEE',\n",
    "                                       'axisbelow':True})\n",
    "    x = np.linspace(0, 10, 1000)\n",
    "    ax.plot(x, amplitude * np.sin(x), color=color,\n",
    "            lw=5 if fat_line else 1, alpha=0.4)\n",
    "    ax.set_ylim(-1.1, 1.1)\n",
    "    plt.show()\n",
    "#     return fig\n",
    "\n",
    "\n",
    "interact(\n",
    "    plot,\n",
    "    amplitude=FloatSlider(min=0.0, max=1, step=0.1, value=0.1),\n",
    "    color=RadioButtons(options=['blue', 'green', 'red']),\n",
    "    fat_line=Checkbox(value=False, label=\"Fat Line\"),\n",
    ")"
   ]
  },
  {
   "cell_type": "code",
   "execution_count": null,
   "metadata": {
    "collapsed": true,
    "urth": {
     "dashboard": {
      "hidden": true,
      "layout": {}
     }
    }
   },
   "outputs": [],
   "source": []
  }
 ],
 "metadata": {
  "kernelspec": {
   "display_name": "Python 3",
   "language": "python",
   "name": "python3"
  },
  "language_info": {
   "codemirror_mode": {
    "name": "ipython",
    "version": 3
   },
   "file_extension": ".py",
   "mimetype": "text/x-python",
   "name": "python",
   "nbconvert_exporter": "python",
   "pygments_lexer": "ipython3",
   "version": "3.6.2"
  },
  "urth": {
   "dashboard": {
    "cellMargin": 10,
    "defaultCellHeight": 20,
    "layout": "grid",
    "maxColumns": 12
   }
  }
 },
 "nbformat": 4,
 "nbformat_minor": 1
}
